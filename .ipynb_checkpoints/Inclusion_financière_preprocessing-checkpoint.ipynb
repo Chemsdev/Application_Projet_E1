{
 "cells": [
  {
   "cell_type": "markdown",
   "id": "e16713a2",
   "metadata": {},
   "source": [
    "#### Importation des librairies"
   ]
  },
  {
   "cell_type": "code",
   "execution_count": 78,
   "id": "fe0fb2bd",
   "metadata": {},
   "outputs": [],
   "source": [
    "import pandas as pd\n",
    "import numpy as np"
   ]
  },
  {
   "cell_type": "code",
   "execution_count": 79,
   "id": "f35cd883",
   "metadata": {},
   "outputs": [],
   "source": [
    "from sklearn.preprocessing import OrdinalEncoder\n",
    "from sklearn.preprocessing import OneHotEncoder\n",
    "from sklearn.preprocessing import LabelEncoder"
   ]
  },
  {
   "cell_type": "code",
   "execution_count": 80,
   "id": "f1e0e855",
   "metadata": {},
   "outputs": [],
   "source": [
    "import warnings\n",
    "warnings.filterwarnings('ignore')"
   ]
  },
  {
   "cell_type": "code",
   "execution_count": 81,
   "id": "6f393bbb",
   "metadata": {},
   "outputs": [],
   "source": [
    "from imblearn.over_sampling import SMOTE\n",
    "import plotly.express as px"
   ]
  },
  {
   "cell_type": "markdown",
   "id": "e5bd398e",
   "metadata": {},
   "source": [
    "#### Importation de la données "
   ]
  },
  {
   "cell_type": "code",
   "execution_count": 102,
   "id": "504d22dd",
   "metadata": {},
   "outputs": [],
   "source": [
    "data = pd.read_csv(\"data.csv\")"
   ]
  },
  {
   "cell_type": "code",
   "execution_count": 106,
   "id": "e73b8e08",
   "metadata": {
    "scrolled": false
   },
   "outputs": [
    {
     "data": {
      "text/plain": [
       "array(['Secondary education', 'No formal education',\n",
       "       'Vocational/Specialised training', 'Primary education',\n",
       "       'Tertiary education', 'Other/Dont know/RTA'], dtype=object)"
      ]
     },
     "execution_count": 106,
     "metadata": {},
     "output_type": "execute_result"
    }
   ],
   "source": [
    "data[\"marital_status\"].unique()"
   ]
  },
  {
   "cell_type": "markdown",
   "id": "2c4ed1a5",
   "metadata": {},
   "source": [
    "#### Traduction des colonnes "
   ]
  },
  {
   "cell_type": "code",
   "execution_count": 84,
   "id": "246daada",
   "metadata": {},
   "outputs": [],
   "source": [
    "# Je renomme mes colonnes\n",
    "data = data.rename(columns={'country': 'pays',\n",
    "                            'year': 'année',\n",
    "                            'uniqueid': \"unique_id\",\n",
    "                            'bank_account':'compte bancaire',\n",
    "                            'location_type': 'type de location', \n",
    "                            'cellphone_access': 'accès au téléphone', \n",
    "                            'household_size': 'taille du ménage', \n",
    "                            'age_of_respondent': 'age',\n",
    "                            'gender_of_respondent': 'sexe',\n",
    "                            'relationship_with_head':'relation avec le chef de famille',\n",
    "                            'marital_status':'etat civil', \n",
    "                            'education_level':'niveau education',\n",
    "                            'job_type':'type de job', \n",
    "                            })"
   ]
  },
  {
   "cell_type": "code",
   "execution_count": 85,
   "id": "24f3bd45",
   "metadata": {
    "scrolled": false
   },
   "outputs": [
    {
     "data": {
      "text/html": [
       "<div>\n",
       "<style scoped>\n",
       "    .dataframe tbody tr th:only-of-type {\n",
       "        vertical-align: middle;\n",
       "    }\n",
       "\n",
       "    .dataframe tbody tr th {\n",
       "        vertical-align: top;\n",
       "    }\n",
       "\n",
       "    .dataframe thead th {\n",
       "        text-align: right;\n",
       "    }\n",
       "</style>\n",
       "<table border=\"1\" class=\"dataframe\">\n",
       "  <thead>\n",
       "    <tr style=\"text-align: right;\">\n",
       "      <th></th>\n",
       "      <th>pays</th>\n",
       "      <th>année</th>\n",
       "      <th>unique_id</th>\n",
       "      <th>compte bancaire</th>\n",
       "      <th>type de location</th>\n",
       "      <th>accès au téléphone</th>\n",
       "      <th>taille du ménage</th>\n",
       "      <th>age</th>\n",
       "      <th>sexe</th>\n",
       "      <th>relation avec le chef de famille</th>\n",
       "      <th>etat civil</th>\n",
       "      <th>niveau education</th>\n",
       "      <th>type de job</th>\n",
       "    </tr>\n",
       "  </thead>\n",
       "  <tbody>\n",
       "    <tr>\n",
       "      <th>0</th>\n",
       "      <td>Kenya</td>\n",
       "      <td>2018</td>\n",
       "      <td>uniqueid_1</td>\n",
       "      <td>Yes</td>\n",
       "      <td>Rural</td>\n",
       "      <td>Yes</td>\n",
       "      <td>3</td>\n",
       "      <td>24</td>\n",
       "      <td>Female</td>\n",
       "      <td>Spouse</td>\n",
       "      <td>Married/Living together</td>\n",
       "      <td>Secondary education</td>\n",
       "      <td>Self employed</td>\n",
       "    </tr>\n",
       "    <tr>\n",
       "      <th>1</th>\n",
       "      <td>Kenya</td>\n",
       "      <td>2018</td>\n",
       "      <td>uniqueid_2</td>\n",
       "      <td>No</td>\n",
       "      <td>Rural</td>\n",
       "      <td>No</td>\n",
       "      <td>5</td>\n",
       "      <td>70</td>\n",
       "      <td>Female</td>\n",
       "      <td>Head of Household</td>\n",
       "      <td>Widowed</td>\n",
       "      <td>No formal education</td>\n",
       "      <td>Government Dependent</td>\n",
       "    </tr>\n",
       "    <tr>\n",
       "      <th>2</th>\n",
       "      <td>Kenya</td>\n",
       "      <td>2018</td>\n",
       "      <td>uniqueid_3</td>\n",
       "      <td>Yes</td>\n",
       "      <td>Urban</td>\n",
       "      <td>Yes</td>\n",
       "      <td>5</td>\n",
       "      <td>26</td>\n",
       "      <td>Male</td>\n",
       "      <td>Other relative</td>\n",
       "      <td>Single/Never Married</td>\n",
       "      <td>Vocational/Specialised training</td>\n",
       "      <td>Self employed</td>\n",
       "    </tr>\n",
       "    <tr>\n",
       "      <th>3</th>\n",
       "      <td>Kenya</td>\n",
       "      <td>2018</td>\n",
       "      <td>uniqueid_4</td>\n",
       "      <td>No</td>\n",
       "      <td>Rural</td>\n",
       "      <td>Yes</td>\n",
       "      <td>5</td>\n",
       "      <td>34</td>\n",
       "      <td>Female</td>\n",
       "      <td>Head of Household</td>\n",
       "      <td>Married/Living together</td>\n",
       "      <td>Primary education</td>\n",
       "      <td>Formally employed Private</td>\n",
       "    </tr>\n",
       "    <tr>\n",
       "      <th>4</th>\n",
       "      <td>Kenya</td>\n",
       "      <td>2018</td>\n",
       "      <td>uniqueid_5</td>\n",
       "      <td>No</td>\n",
       "      <td>Urban</td>\n",
       "      <td>No</td>\n",
       "      <td>8</td>\n",
       "      <td>26</td>\n",
       "      <td>Male</td>\n",
       "      <td>Child</td>\n",
       "      <td>Single/Never Married</td>\n",
       "      <td>Primary education</td>\n",
       "      <td>Informally employed</td>\n",
       "    </tr>\n",
       "  </tbody>\n",
       "</table>\n",
       "</div>"
      ],
      "text/plain": [
       "    pays  année   unique_id compte bancaire type de location  \\\n",
       "0  Kenya   2018  uniqueid_1             Yes            Rural   \n",
       "1  Kenya   2018  uniqueid_2              No            Rural   \n",
       "2  Kenya   2018  uniqueid_3             Yes            Urban   \n",
       "3  Kenya   2018  uniqueid_4              No            Rural   \n",
       "4  Kenya   2018  uniqueid_5              No            Urban   \n",
       "\n",
       "  accès au téléphone  taille du ménage  age    sexe  \\\n",
       "0                Yes                 3   24  Female   \n",
       "1                 No                 5   70  Female   \n",
       "2                Yes                 5   26    Male   \n",
       "3                Yes                 5   34  Female   \n",
       "4                 No                 8   26    Male   \n",
       "\n",
       "  relation avec le chef de famille               etat civil  \\\n",
       "0                           Spouse  Married/Living together   \n",
       "1                Head of Household                  Widowed   \n",
       "2                   Other relative     Single/Never Married   \n",
       "3                Head of Household  Married/Living together   \n",
       "4                            Child     Single/Never Married   \n",
       "\n",
       "                  niveau education                type de job  \n",
       "0              Secondary education              Self employed  \n",
       "1              No formal education       Government Dependent  \n",
       "2  Vocational/Specialised training              Self employed  \n",
       "3                Primary education  Formally employed Private  \n",
       "4                Primary education        Informally employed  "
      ]
     },
     "execution_count": 85,
     "metadata": {},
     "output_type": "execute_result"
    }
   ],
   "source": [
    "data.head()"
   ]
  },
  {
   "cell_type": "markdown",
   "id": "0d54ec54",
   "metadata": {},
   "source": [
    "#### Création d'une colonne catégorielle \"Group Age\""
   ]
  },
  {
   "cell_type": "code",
   "execution_count": 86,
   "id": "2505a1c0",
   "metadata": {},
   "outputs": [],
   "source": [
    "data['Group Age'] = pd.cut(\n",
    "    data['age'],\n",
    "    bins = [10, 20, 30, 40, 50, 60, 70, 80, np.inf], \n",
    "    labels = [ '[10-20]','[20-30]','[30-40]','[40-50]','[50-60]','[60-70]','[70-80]','[80+]']\n",
    ")"
   ]
  },
  {
   "cell_type": "markdown",
   "id": "2cab9816",
   "metadata": {},
   "source": [
    "#### Classification des types de colonnes dans des listes"
   ]
  },
  {
   "cell_type": "code",
   "execution_count": 87,
   "id": "44614d9b",
   "metadata": {},
   "outputs": [],
   "source": [
    "# Classement des colonnes dans des listes.\n",
    "drop        = [\"unique_id\", \"sexe\"]\n",
    "passthrough = [\"taille du ménage\", \"age\", \"niveau education\"]\n",
    "cat         = [\"pays\",\"Group Age\", \"etat civil\", \"type de job\", \"relation avec le chef de famille\", \"année\"]\n",
    "text        = ['type de location','accès au téléphone', 'compte bancaire']"
   ]
  },
  {
   "cell_type": "code",
   "execution_count": 88,
   "id": "840d0728",
   "metadata": {},
   "outputs": [],
   "source": [
    "# Liste contenant toutes les colonnes\n",
    "all_cols = [\n",
    "    drop,\n",
    "    passthrough,\n",
    "    text,\n",
    "    cat,\n",
    "]"
   ]
  },
  {
   "cell_type": "markdown",
   "id": "72d4b8dd",
   "metadata": {},
   "source": [
    "#### Vérification de ne pas avoir négligé de colonnes"
   ]
  },
  {
   "cell_type": "code",
   "execution_count": 89,
   "id": "ca4d839f",
   "metadata": {},
   "outputs": [],
   "source": [
    "# Vérification (fautes ortographes, oublie de colonnes etc...)\n",
    "def check_work(df, liste_all_listes):\n",
    "    set_nos_cols = set()\n",
    "    for liste in liste_all_listes:\n",
    "        for col in liste:\n",
    "            if col in set_nos_cols:\n",
    "                print(f\"Warning : La colonne '{col}' est déja présente !\")\n",
    "            set_nos_cols.add(col)\n",
    "    set_colonnes_originales = set(df.columns)\n",
    "    mal_écrites = set_nos_cols - set_colonnes_originales\n",
    "    col_manquantes = set_colonnes_originales - set_nos_cols\n",
    "    print(f\"Des colonnes sont manquantes : {col_manquantes}\")\n",
    "    print(f\"Des colonnes sont mal écrites : {mal_écrites}\")"
   ]
  },
  {
   "cell_type": "code",
   "execution_count": 90,
   "id": "6fe21e58",
   "metadata": {
    "scrolled": false
   },
   "outputs": [
    {
     "name": "stdout",
     "output_type": "stream",
     "text": [
      "Des colonnes sont manquantes : set()\n",
      "Des colonnes sont mal écrites : set()\n"
     ]
    }
   ],
   "source": [
    "check_work(df=data, liste_all_listes=all_cols)"
   ]
  },
  {
   "cell_type": "markdown",
   "id": "755d633c",
   "metadata": {},
   "source": [
    "#### Encodage des colonnes \"type de location\" & \"accès au téléphone\" & \"compte bancaire\" (LabelEncoder)."
   ]
  },
  {
   "cell_type": "code",
   "execution_count": 91,
   "id": "50185f1e",
   "metadata": {},
   "outputs": [],
   "source": [
    "def ordinal_encode(data, columns) : \n",
    "    encoder=OrdinalEncoder()\n",
    "    for i, col in enumerate(columns) :\n",
    "        data[col]=encoder.fit_transform(data[[col]])\n",
    "    return data"
   ]
  },
  {
   "cell_type": "markdown",
   "id": "a6cb4835",
   "metadata": {},
   "source": [
    "#### Encodage des colonnes catégorielles (One Hot Encoder)."
   ]
  },
  {
   "cell_type": "code",
   "execution_count": 92,
   "id": "57b4e2c0",
   "metadata": {},
   "outputs": [],
   "source": [
    "def one_hot_encode(data, columns):\n",
    "    one_hot_encoder = OneHotEncoder(handle_unknown=\"ignore\", sparse=False)\n",
    "    df_encoder = pd.DataFrame(one_hot_encoder.fit_transform(data), columns=one_hot_encoder.get_feature_names_out(input_features=data.columns))\n",
    "    return df_encoder"
   ]
  },
  {
   "cell_type": "markdown",
   "id": "1fba8dba",
   "metadata": {},
   "source": [
    "#### Traitement de la colonne \"education_level\""
   ]
  },
  {
   "cell_type": "code",
   "execution_count": 93,
   "id": "da5c84ad",
   "metadata": {},
   "outputs": [],
   "source": [
    "def education_level(X_transform):\n",
    "    encoder=OrdinalEncoder()\n",
    "    order = ['Other/Dont know/RTA','No formal education','Primary education','Secondary education','Vocational/Specialised training','Tertiary education']\n",
    "    encoder = OrdinalEncoder(categories=[order])\n",
    "    X_transform['education_level_encoded'] = encoder.fit_transform(X_transform[['niveau education']])\n",
    "    X_transform = X_transform.drop('niveau education', axis=1)\n",
    "    return X_transform"
   ]
  },
  {
   "cell_type": "markdown",
   "id": "37848278",
   "metadata": {},
   "source": [
    "#### Preprocessing"
   ]
  },
  {
   "cell_type": "code",
   "execution_count": 94,
   "id": "0234d77a",
   "metadata": {},
   "outputs": [],
   "source": [
    "def preprocessing(data, columns_ordinal:list, columns_onehot:list, passthrough:list):\n",
    "    \n",
    "    # Création des DataFrames avec les colonnes à encoder     \n",
    "    df_ordinal = data[[ i for i in columns_ordinal ]]\n",
    "    df_onehot  = data[[ i for i in columns_onehot  ]]\n",
    "    \n",
    "    # Ordinal Encoding des colonnes.\n",
    "    df_ordinal_encoded = ordinal_encode(data=df_ordinal, columns=columns_ordinal)\n",
    "    \n",
    "    # One Hot Encoding des colonnes.\n",
    "    df_one_hot_encoded = one_hot_encode(data=df_onehot, columns=columns_onehot)\n",
    "    \n",
    "    # Concaténation des DataFrames contenant les colonnes encodées et les autres colonnes (passthrough).     \n",
    "    data_transform = pd.concat([df_ordinal_encoded, df_one_hot_encoded, data[passthrough]], axis=1) \n",
    "    \n",
    "    # Traitement de la colonne Education level.   \n",
    "    data_transform = education_level(data_transform)\n",
    "    \n",
    "    # On retourne les données.     \n",
    "    return data_transform"
   ]
  },
  {
   "cell_type": "markdown",
   "id": "4d60a3cf",
   "metadata": {},
   "source": [
    "#### Exportation des données"
   ]
  },
  {
   "cell_type": "code",
   "execution_count": 95,
   "id": "3df2f344",
   "metadata": {},
   "outputs": [],
   "source": [
    "clean_data = preprocessing(\n",
    "    \n",
    "    # features     \n",
    "    data=data, \n",
    "    \n",
    "    # columns to encoding with OrdinalEncoder     \n",
    "    columns_ordinal=text, \n",
    "    \n",
    "    # columns to encoding with OneHotEncoder     \n",
    "    columns_onehot=cat, \n",
    "    \n",
    "    # Others columns     \n",
    "    passthrough=passthrough\n",
    ")"
   ]
  },
  {
   "cell_type": "markdown",
   "id": "aba96726",
   "metadata": {},
   "source": [
    "#### Equilibrage des données"
   ]
  },
  {
   "cell_type": "code",
   "execution_count": 96,
   "id": "810586a5",
   "metadata": {},
   "outputs": [],
   "source": [
    "def balanced_data(clean_data):\n",
    "    X = clean_data.drop(\"compte bancaire\", axis=\"columns\")\n",
    "    Y = clean_data[\"compte bancaire\"]\n",
    "    smote = SMOTE(random_state=42, sampling_strategy=\"auto\")\n",
    "    X_resampled, y_resampled = smote.fit_resample(X, Y)\n",
    "    balanced_data = pd.concat([pd.DataFrame(X_resampled, columns=X.columns), pd.Series(y_resampled, name=\"compte bancaire\")], axis=1)\n",
    "    balanced_data[\"education_level_encoded\"] = balanced_data[\"education_level_encoded\"].round()\n",
    "    return balanced_data"
   ]
  },
  {
   "cell_type": "code",
   "execution_count": 97,
   "id": "7ef7ab32",
   "metadata": {},
   "outputs": [],
   "source": [
    "balanced_data = balanced_data(clean_data)"
   ]
  },
  {
   "cell_type": "markdown",
   "id": "58e08083",
   "metadata": {},
   "source": [
    "#### Export des données"
   ]
  },
  {
   "cell_type": "code",
   "execution_count": 98,
   "id": "791e5d70",
   "metadata": {},
   "outputs": [],
   "source": [
    "balanced_data.to_csv('balanced_data.csv', index=False)"
   ]
  }
 ],
 "metadata": {
  "kernelspec": {
   "display_name": "Python 3 (ipykernel)",
   "language": "python",
   "name": "python3"
  },
  "language_info": {
   "codemirror_mode": {
    "name": "ipython",
    "version": 3
   },
   "file_extension": ".py",
   "mimetype": "text/x-python",
   "name": "python",
   "nbconvert_exporter": "python",
   "pygments_lexer": "ipython3",
   "version": "3.8.12"
  },
  "toc": {
   "base_numbering": 1,
   "nav_menu": {},
   "number_sections": true,
   "sideBar": true,
   "skip_h1_title": false,
   "title_cell": "Table of Contents",
   "title_sidebar": "Contents",
   "toc_cell": false,
   "toc_position": {},
   "toc_section_display": true,
   "toc_window_display": false
  }
 },
 "nbformat": 4,
 "nbformat_minor": 5
}
